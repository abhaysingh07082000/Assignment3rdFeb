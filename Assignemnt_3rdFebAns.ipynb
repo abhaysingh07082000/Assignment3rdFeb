{
 "cells": [
  {
   "cell_type": "markdown",
   "id": "57974ce0-4c65-45fb-8899-88a489e7e643",
   "metadata": {},
   "source": [
    "Assignemnt_3rdFeb"
   ]
  },
  {
   "cell_type": "code",
   "execution_count": 1,
   "id": "a61bdd13-87bc-4ed2-aefd-594d380a8d52",
   "metadata": {},
   "outputs": [],
   "source": [
    "#Q1. Which keyword is used to create a function? Create a function to return a list of odd numbers in the\n",
    "#range of 1 to 25."
   ]
  },
  {
   "cell_type": "code",
   "execution_count": 6,
   "id": "6ab3a268-f7f5-4a71-a68a-717073b23420",
   "metadata": {},
   "outputs": [],
   "source": [
    "#Answer-\n",
    "# 'def' keyword is used to define a function.\n",
    "\n",
    "odd_list=[]\n",
    "def odd():\n",
    "    for i in range(1,26):\n",
    "        if i%2==1:\n",
    "            odd_list.append(i)\n",
    "    return odd_list"
   ]
  },
  {
   "cell_type": "code",
   "execution_count": 7,
   "id": "ea0aca0c-c7eb-4bc0-8bb0-f6994d8c9fa9",
   "metadata": {},
   "outputs": [
    {
     "data": {
      "text/plain": [
       "[1, 3, 5, 7, 9, 11, 13, 15, 17, 19, 21, 23, 25]"
      ]
     },
     "execution_count": 7,
     "metadata": {},
     "output_type": "execute_result"
    }
   ],
   "source": [
    "odd()"
   ]
  },
  {
   "cell_type": "code",
   "execution_count": 8,
   "id": "b45903a1-9c2a-4507-a3ae-5551481c74fb",
   "metadata": {},
   "outputs": [],
   "source": [
    "#Q2. Why *args and **kwargs is used in some functions? Create a function each for *args and **kwargs\n",
    "#to demonstrate their use."
   ]
  },
  {
   "cell_type": "code",
   "execution_count": 9,
   "id": "e18be9ce-f546-41aa-b35a-53aea3d156ca",
   "metadata": {},
   "outputs": [
    {
     "name": "stdout",
     "output_type": "stream",
     "text": [
      "1\n",
      "2\n",
      "3\n"
     ]
    }
   ],
   "source": [
    "#  *args and **kwargs are used in Python functions to handle variable numbers of arguments, which makes our functions more flexible\n",
    "#  and reusable.\n",
    "\n",
    "\n",
    "'''*args (Non-keyword Arguments)\n",
    "*args allows a function to accept any number of positional arguments (arguments without keywords). This is useful when we don’t know in\n",
    "advance how many arguments might be passed to our function.'''\n",
    "#Example-\n",
    "def print_numbers(*numbers):\n",
    "    for number in numbers:\n",
    "        print(number)\n",
    "\n",
    "print_numbers(1,2,3)"
   ]
  },
  {
   "cell_type": "code",
   "execution_count": 10,
   "id": "ebb8d204-e531-4672-bf61-901e4cfa3830",
   "metadata": {},
   "outputs": [
    {
     "name": "stdout",
     "output_type": "stream",
     "text": [
      "name: Alice\n",
      "age: 25\n"
     ]
    }
   ],
   "source": [
    "'''**kwargs (Keyword Arguments)\n",
    "**kwargs allows a function to accept any number of keyword arguments (arguments specified by name). This is useful when we want \n",
    "to pass a varying number of named parameters to our function.'''\n",
    "def greet_person(**info):\n",
    "    for key, value in info.items():\n",
    "        print(f\"{key}: {value}\")\n",
    "\n",
    "greet_person(name=\"Alice\", age=25)"
   ]
  },
  {
   "cell_type": "code",
   "execution_count": 11,
   "id": "0a780721-2877-4db9-8ba4-39d4c5e5a9ee",
   "metadata": {},
   "outputs": [],
   "source": [
    "#Q3. What is an iterator in python? Name the method used to initialise the iterator object and the method\n",
    "#used for iteration. Use these methods to print the first five elements of the given list [2, 4, 6, 8, 10, 12, 14,\n",
    "# 16, 18, 20]."
   ]
  },
  {
   "cell_type": "code",
   "execution_count": 12,
   "id": "c6d644d8-705d-4784-bd56-33ee4c48e957",
   "metadata": {},
   "outputs": [
    {
     "data": {
      "text/plain": [
       "'An iterator in Python is an object that is used to iterate over iterable objects like lists, tuples, dicts, and sets. \\niterators object is initialized using the iter() method. It uses the next() method for iteration.\\n\\n__iter__(): The iter() method is called for the initialization of an iterator. This returns an iterator object\\n__next__(): The next method returns the next value for the iterable.'"
      ]
     },
     "execution_count": 12,
     "metadata": {},
     "output_type": "execute_result"
    }
   ],
   "source": [
    "'''An iterator in Python is an object that is used to iterate over iterable objects like lists, tuples, dicts, and sets. \n",
    "iterators object is initialized using the iter() method. It uses the next() method for iteration.\n",
    "\n",
    "__iter__(): The iter() method is called for the initialization of an iterator. This returns an iterator object\n",
    "__next__(): The next method returns the next value for the iterable.'''"
   ]
  },
  {
   "cell_type": "code",
   "execution_count": 13,
   "id": "b26231a6-f054-41da-8974-5436de15f2d5",
   "metadata": {},
   "outputs": [
    {
     "name": "stdout",
     "output_type": "stream",
     "text": [
      "2\n",
      "4\n",
      "6\n",
      "8\n",
      "10\n"
     ]
    }
   ],
   "source": [
    "numbers = [2, 4, 6, 8, 10, 12, 14, 16, 18, 20]\n",
    "iterator = iter(numbers)\n",
    "\n",
    "for _ in range(5):\n",
    "    print(next(iterator))\n"
   ]
  },
  {
   "cell_type": "code",
   "execution_count": 14,
   "id": "2aca8c1d-354b-4463-9893-3666f39a9e06",
   "metadata": {},
   "outputs": [],
   "source": [
    "#Q4. What is a generator function in python? Why yield keyword is used? Give an example of a generator function."
   ]
  },
  {
   "cell_type": "code",
   "execution_count": 15,
   "id": "7b3506a2-ccc6-48e8-82ba-6b12516c55ad",
   "metadata": {},
   "outputs": [
    {
     "name": "stdout",
     "output_type": "stream",
     "text": [
      "0\n",
      "1\n",
      "1\n",
      "2\n",
      "3\n"
     ]
    }
   ],
   "source": [
    "'''A generator function in Python is a special type of function that returns an iterator. Unlike a regular function that returns a single\n",
    "value, a generator function uses the yield keyword to return a series of values one at a time, which allows the function to produce a \n",
    "sequence of results lazily and efficiently.'''\n",
    "\n",
    "#why use yield-\n",
    "'''yield: When a function contains the yield keyword, it becomes a generator function. Instead of returning a single value and terminating,\n",
    "a generator function yields a value and pauses its execution. The function can then be resumed later to produce more values.'''\n",
    "\n",
    "#Example-\n",
    "\n",
    "def fibonacci(n):\n",
    "    a, b = 0, 1\n",
    "    count = 0\n",
    "    while count < n:\n",
    "        yield a\n",
    "        a, b = b, a + b\n",
    "        count += 1\n",
    "\n",
    "for num in fibonacci(5):\n",
    "    print(num)\n"
   ]
  },
  {
   "cell_type": "code",
   "execution_count": 16,
   "id": "4c93b8e9-6928-4a5b-a870-c77da10dac50",
   "metadata": {},
   "outputs": [],
   "source": [
    "#Q5. Create a generator function for prime numbers less than 1000. Use the next() method to print the first 20 prime numbers."
   ]
  },
  {
   "cell_type": "code",
   "execution_count": 17,
   "id": "057649d2-4c62-49ab-b26d-0da51b1bc3c9",
   "metadata": {},
   "outputs": [
    {
     "name": "stdout",
     "output_type": "stream",
     "text": [
      "2\n",
      "3\n",
      "5\n",
      "7\n",
      "11\n",
      "13\n",
      "17\n",
      "19\n",
      "23\n",
      "29\n",
      "31\n",
      "37\n",
      "41\n",
      "43\n",
      "47\n",
      "53\n",
      "59\n",
      "61\n",
      "67\n",
      "71\n"
     ]
    }
   ],
   "source": [
    "def is_prime(num):\n",
    "    \"\"\"Check if a number is prime.\"\"\"\n",
    "    if num <= 1:\n",
    "        return False\n",
    "    if num <= 3:\n",
    "        return True\n",
    "    if num % 2 == 0 or num % 3 == 0:\n",
    "        return False\n",
    "    i = 5\n",
    "    while i * i <= num:\n",
    "        if num % i == 0 or num % (i + 2) == 0:\n",
    "            return False\n",
    "        i += 6\n",
    "    return True\n",
    "\n",
    "def prime_generator(limit):\n",
    "    num = 2\n",
    "    while num < limit:\n",
    "        if is_prime(num):\n",
    "            yield num\n",
    "        num += 1\n",
    "\n",
    "# Initialize the generator\n",
    "gen = prime_generator(1000)\n",
    "\n",
    "# Print the first 20 prime numbers\n",
    "for _ in range(20):\n",
    "    print(next(gen))\n"
   ]
  },
  {
   "cell_type": "code",
   "execution_count": 1,
   "id": "43ea1845-d32f-494f-a726-f24abbee3320",
   "metadata": {},
   "outputs": [],
   "source": [
    "#Q6. Write a python program to print the first 10 Fibonacci numbers using a while loop."
   ]
  },
  {
   "cell_type": "code",
   "execution_count": 11,
   "id": "f84dce1c-f24c-43d1-9514-a05445eaa9bd",
   "metadata": {},
   "outputs": [
    {
     "name": "stdout",
     "output_type": "stream",
     "text": [
      "0 1 1 2 3 5 8 13 21 34 "
     ]
    }
   ],
   "source": [
    "def print_fibonacci_while(n):\n",
    "    \n",
    "    a, b = 0, 1  \n",
    "    count = 0    \n",
    "    \n",
    "    while count < n:\n",
    "        print(a, end=' ')\n",
    "        a, b = b, a + b \n",
    "        count += 1      \n",
    "\n",
    "\n",
    "print_fibonacci_while(10)\n"
   ]
  },
  {
   "cell_type": "code",
   "execution_count": 12,
   "id": "86aaaf6f-386e-4004-82b5-69f7806f0351",
   "metadata": {},
   "outputs": [],
   "source": [
    "#Q7. Write a List Comprehension to iterate through the given string: ‘pwskills’.\n",
    "#Expected output: ['p', 'w', 's', 'k', 'i', 'l', 'l', 's']"
   ]
  },
  {
   "cell_type": "code",
   "execution_count": 14,
   "id": "2d50b24c-9c69-4f94-bf12-c180bc085b8a",
   "metadata": {},
   "outputs": [],
   "source": [
    "string='pwskills'"
   ]
  },
  {
   "cell_type": "code",
   "execution_count": 18,
   "id": "98001883-f4c6-45d1-b6ee-8011c8019b93",
   "metadata": {},
   "outputs": [
    {
     "data": {
      "text/plain": [
       "['p', 'w', 's', 'k', 'i', 'l', 'l', 's']"
      ]
     },
     "execution_count": 18,
     "metadata": {},
     "output_type": "execute_result"
    }
   ],
   "source": [
    "list=[i for i in string]\n",
    "list"
   ]
  },
  {
   "cell_type": "code",
   "execution_count": 19,
   "id": "b97fd0cf-9898-46ff-afef-9f56e4aa3960",
   "metadata": {},
   "outputs": [],
   "source": [
    "#Q8. Write a python program to check whether a given number is Palindrome or not using a while loop."
   ]
  },
  {
   "cell_type": "code",
   "execution_count": 25,
   "id": "a45986c6-a724-4553-b620-cfdf1dd3e452",
   "metadata": {},
   "outputs": [],
   "source": [
    "def palindrome(num):\n",
    "    if num<0:\n",
    "        return False\n",
    "    reversed=0\n",
    "    org_num=num\n",
    "    while num>0:\n",
    "        r=num%10\n",
    "        reversed=reversed*10+r\n",
    "        num=num//10\n",
    "\n",
    "    return org_num==reversed\n",
    "\n",
    " "
   ]
  },
  {
   "cell_type": "code",
   "execution_count": 27,
   "id": "5d41f85a-cdbc-4571-87d2-fedf2d9c5724",
   "metadata": {},
   "outputs": [
    {
     "data": {
      "text/plain": [
       "False"
      ]
     },
     "execution_count": 27,
     "metadata": {},
     "output_type": "execute_result"
    }
   ],
   "source": [
    "palindrome(10)"
   ]
  },
  {
   "cell_type": "code",
   "execution_count": 20,
   "id": "eaf41a4c-48d0-4b8c-a51f-efc47ff3f05b",
   "metadata": {},
   "outputs": [],
   "source": [
    "#Q9. Write a code to print odd numbers from 1 to 100 using list comprehension."
   ]
  },
  {
   "cell_type": "code",
   "execution_count": 22,
   "id": "48f71299-5819-41e1-acb0-7d213c591061",
   "metadata": {},
   "outputs": [
    {
     "name": "stdout",
     "output_type": "stream",
     "text": [
      "[1, 3, 5, 7, 9, 11, 13, 15, 17, 19, 21, 23, 25, 27, 29, 31, 33, 35, 37, 39, 41, 43, 45, 47, 49, 51, 53, 55, 57, 59, 61, 63, 65, 67, 69, 71, 73, 75, 77, 79, 81, 83, 85, 87, 89, 91, 93, 95, 97, 99] "
     ]
    }
   ],
   "source": [
    "odd=[i for i in range(1,101) if i%2==1]\n",
    "print(odd,end=' ')"
   ]
  },
  {
   "cell_type": "code",
   "execution_count": null,
   "id": "5324e1ea-855a-495b-bcee-d1eb08797ea9",
   "metadata": {},
   "outputs": [],
   "source": []
  }
 ],
 "metadata": {
  "kernelspec": {
   "display_name": "Python 3 (ipykernel)",
   "language": "python",
   "name": "python3"
  },
  "language_info": {
   "codemirror_mode": {
    "name": "ipython",
    "version": 3
   },
   "file_extension": ".py",
   "mimetype": "text/x-python",
   "name": "python",
   "nbconvert_exporter": "python",
   "pygments_lexer": "ipython3",
   "version": "3.12.4"
  }
 },
 "nbformat": 4,
 "nbformat_minor": 5
}
